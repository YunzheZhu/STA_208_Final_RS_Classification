{
 "cells": [
  {
   "cell_type": "code",
   "execution_count": 1,
   "id": "cdf12bab-7e6c-4ac1-bee7-eff8d260a746",
   "metadata": {},
   "outputs": [],
   "source": [
    "import os\n",
    "from osgeo import gdal, ogr, osr\n",
    "import numpy as np"
   ]
  },
  {
   "cell_type": "code",
   "execution_count": 18,
   "id": "60fc957e-b2f7-4901-843d-babc56350829",
   "metadata": {
    "jupyter": {
     "source_hidden": true
    },
    "tags": []
   },
   "outputs": [],
   "source": [
    "raster_dir = '../../Landsat_ARD_002008/LE08'\n",
    "\n",
    "for folder in os.listdir(raster_dir):\n",
    "    folder_path = os.path.join(raster_dir, folder, 'SR')\n",
    "    file_list = os.listdir(folder_path)\n",
    "    for file in file_list:\n",
    "        if file.endswith('SRB1.tif'):\n",
    "            CAerosol_path = os.path.join(folder_path, file)\n",
    "        elif file.endswith('SRB2.tif'):\n",
    "            BLUE_path = os.path.join(folder_path, file)\n",
    "        elif file.endswith('SRB3.tif'):\n",
    "            GREEN_path = os.path.join(folder_path, file)\n",
    "        elif file.endswith('SRB4.tif'):\n",
    "            RED_path = os.path.join(folder_path, file)\n",
    "        elif file.endswith('SRB5.tif'):\n",
    "            NIR_path = os.path.join(folder_path, file)\n",
    "        elif file.endswith('SRB6.tif'):\n",
    "            SWIR1_path = os.path.join(folder_path, file)\n",
    "        elif file.endswith('SRB7.tif'):\n",
    "            SWIR2_path = os.path.join(folder_path, file)\n",
    "    merged_path = os.path.join(raster_dir, file[:-26])\n",
    "    os.system('gdalbuildvrt -separate ' + merged_path + '.vrt ' + CAerosol_path + ' ' + BLUE_path + ' ' + GREEN_path + ' ' + RED_path + ' ' + NIR_path + ' ' + SWIR1_path + ' ' + SWIR2_path)\n",
    "    os.system('gdal_translate ' + merged_path + '.vrt ' + merged_path + '.tif')"
   ]
  },
  {
   "cell_type": "code",
   "execution_count": 3,
   "id": "de0215a2-96e9-4d76-87fd-663c23a1f9a8",
   "metadata": {},
   "outputs": [
    {
     "name": "stdout",
     "output_type": "stream",
     "text": [
      "(5000, 5000)\n"
     ]
    },
    {
     "ename": "ValueError",
     "evalue": "all the input array dimensions for the concatenation axis must match exactly, but along dimension 0, the array at index 0 has size 5000 and the array at index 5 has size 3751",
     "output_type": "error",
     "traceback": [
      "\u001b[1;31m---------------------------------------------------------------------------\u001b[0m",
      "\u001b[1;31mValueError\u001b[0m                                Traceback (most recent call last)",
      "Input \u001b[1;32mIn [3]\u001b[0m, in \u001b[0;36m<cell line: 36>\u001b[1;34m()\u001b[0m\n\u001b[0;32m     33\u001b[0m         SWIR2 \u001b[38;5;241m=\u001b[39m raster\u001b[38;5;241m.\u001b[39mGetRasterBand(\u001b[38;5;241m1\u001b[39m)\u001b[38;5;241m.\u001b[39mReadAsArray()\n\u001b[0;32m     35\u001b[0m \u001b[38;5;28mprint\u001b[39m(CAerosol\u001b[38;5;241m.\u001b[39mshape)\n\u001b[1;32m---> 36\u001b[0m raster_array \u001b[38;5;241m=\u001b[39m \u001b[43mnp\u001b[49m\u001b[38;5;241;43m.\u001b[39;49m\u001b[43mdstack\u001b[49m\u001b[43m(\u001b[49m\u001b[43m(\u001b[49m\u001b[43mCAerosol\u001b[49m\u001b[43m,\u001b[49m\u001b[43m \u001b[49m\u001b[43mBLUE\u001b[49m\u001b[43m,\u001b[49m\u001b[43m \u001b[49m\u001b[43mGREEN\u001b[49m\u001b[43m,\u001b[49m\u001b[43m \u001b[49m\u001b[43mRED\u001b[49m\u001b[43m,\u001b[49m\u001b[43m \u001b[49m\u001b[43mNIR\u001b[49m\u001b[43m,\u001b[49m\u001b[43m \u001b[49m\u001b[43mSWIR1\u001b[49m\u001b[43m,\u001b[49m\u001b[43m \u001b[49m\u001b[43mSWIR2\u001b[49m\u001b[43m)\u001b[49m\u001b[43m)\u001b[49m\n\u001b[0;32m     38\u001b[0m raster \u001b[38;5;241m=\u001b[39m gdal\u001b[38;5;241m.\u001b[39mOpen(os\u001b[38;5;241m.\u001b[39mpath\u001b[38;5;241m.\u001b[39mjoin(raster_dir, file[:\u001b[38;5;241m-\u001b[39m\u001b[38;5;241m4\u001b[39m] \u001b[38;5;241m+\u001b[39m \u001b[38;5;124m'\u001b[39m\u001b[38;5;124m_clip.tif\u001b[39m\u001b[38;5;124m'\u001b[39m))\n\u001b[0;32m     39\u001b[0m geotransform \u001b[38;5;241m=\u001b[39m raster\u001b[38;5;241m.\u001b[39mGetGeoTransform()\n",
      "File \u001b[1;32m<__array_function__ internals>:180\u001b[0m, in \u001b[0;36mdstack\u001b[1;34m(*args, **kwargs)\u001b[0m\n",
      "File \u001b[1;32m~\\.conda\\envs\\rangeland\\lib\\site-packages\\numpy\\lib\\shape_base.py:723\u001b[0m, in \u001b[0;36mdstack\u001b[1;34m(tup)\u001b[0m\n\u001b[0;32m    721\u001b[0m \u001b[38;5;28;01mif\u001b[39;00m \u001b[38;5;129;01mnot\u001b[39;00m \u001b[38;5;28misinstance\u001b[39m(arrs, \u001b[38;5;28mlist\u001b[39m):\n\u001b[0;32m    722\u001b[0m     arrs \u001b[38;5;241m=\u001b[39m [arrs]\n\u001b[1;32m--> 723\u001b[0m \u001b[38;5;28;01mreturn\u001b[39;00m \u001b[43m_nx\u001b[49m\u001b[38;5;241;43m.\u001b[39;49m\u001b[43mconcatenate\u001b[49m\u001b[43m(\u001b[49m\u001b[43marrs\u001b[49m\u001b[43m,\u001b[49m\u001b[43m \u001b[49m\u001b[38;5;241;43m2\u001b[39;49m\u001b[43m)\u001b[49m\n",
      "File \u001b[1;32m<__array_function__ internals>:180\u001b[0m, in \u001b[0;36mconcatenate\u001b[1;34m(*args, **kwargs)\u001b[0m\n",
      "\u001b[1;31mValueError\u001b[0m: all the input array dimensions for the concatenation axis must match exactly, but along dimension 0, the array at index 0 has size 5000 and the array at index 5 has size 3751"
     ]
    }
   ],
   "source": [
    "raster_dir = '../../Landsat_ARD_002008/LE08/20210625/SR'\n",
    "shp_path = '../../Sac_Yolo_Solano_Boundaries.shp'\n",
    "output_path = '../data/Data'\n",
    "#  -crop_to_cutline -dstalpha \n",
    "for file in os.listdir(raster_dir):\n",
    "    if file.endswith('SRB1.tif'):\n",
    "        os.system('gdalwarp -cutline ' + shp_path + ' ' + os.path.join(raster_dir, file) + ' ' + os.path.join(raster_dir, file[:-4] + '_clip.tif'))\n",
    "        raster = gdal.Open(os.path.join(raster_dir, file[:-4] + '_clip.tif'))\n",
    "        CAerosol = raster.GetRasterBand(1).ReadAsArray()\n",
    "    elif file.endswith('SRB2.tif'):\n",
    "        os.system('gdalwarp -cutline ' + shp_path + ' ' + os.path.join(raster_dir, file) + ' ' + os.path.join(raster_dir, file[:-4] + '_clip.tif'))\n",
    "        raster = gdal.Open(os.path.join(raster_dir, file[:-4] + '_clip.tif'))\n",
    "        BLUE = raster.GetRasterBand(1).ReadAsArray()\n",
    "    elif file.endswith('SRB3.tif'):\n",
    "        os.system('gdalwarp -cutline ' + shp_path + ' ' + os.path.join(raster_dir, file) + ' ' + os.path.join(raster_dir, file[:-4] + '_clip.tif'))\n",
    "        raster = gdal.Open(os.path.join(raster_dir, file[:-4] + '_clip.tif'))\n",
    "        GREEN = raster.GetRasterBand(1).ReadAsArray()\n",
    "    elif file.endswith('SRB4.tif'):\n",
    "        os.system('gdalwarp -cutline ' + shp_path + ' ' + os.path.join(raster_dir, file) + ' ' + os.path.join(raster_dir, file[:-4] + '_clip.tif'))\n",
    "        raster = gdal.Open(os.path.join(raster_dir, file[:-4] + '_clip.tif'))\n",
    "        RED = raster.GetRasterBand(1).ReadAsArray()\n",
    "    elif file.endswith('SRB5.tif'):\n",
    "        os.system('gdalwarp -cutline ' + shp_path + ' ' + os.path.join(raster_dir, file) + ' ' + os.path.join(raster_dir, file[:-4] + '_clip.tif'))\n",
    "        raster = gdal.Open(os.path.join(raster_dir, file[:-4] + '_clip.tif'))\n",
    "        NIR = raster.GetRasterBand(1).ReadAsArray()\n",
    "    elif file.endswith('SRB6.tif'):\n",
    "        os.system('gdalwarp -cutline ' + shp_path + ' -crop_to_cutline -dstalpha ' + os.path.join(raster_dir, file) + ' ' + os.path.join(raster_dir, file[:-4] + '_clip.tif'))\n",
    "        raster = gdal.Open(os.path.join(raster_dir, file[:-4] + '_clip.tif'))\n",
    "        SWIR1 = raster.GetRasterBand(1).ReadAsArray()\n",
    "    elif file.endswith('SRB7.tif'):\n",
    "        os.system('gdalwarp -cutline ' + shp_path + ' ' + os.path.join(raster_dir, file) + ' ' + os.path.join(raster_dir, file[:-4] + '_clip.tif'))\n",
    "        raster = gdal.Open(os.path.join(raster_dir, file[:-4] + '_clip.tif'))\n",
    "        SWIR2 = raster.GetRasterBand(1).ReadAsArray()\n",
    "\n",
    "print(CAerosol.shape)\n",
    "print(BLUE.shape)\n",
    "raster_array = np.dstack((CAerosol, BLUE, GREEN, RED, NIR, SWIR1, SWIR2))\n",
    "\n",
    "raster = gdal.Open(os.path.join(raster_dir, file[:-4] + '_clip.tif'))\n",
    "geotransform = raster.GetGeoTransform()\n",
    "\n",
    "output = os.path.join('../data/Data', file[:-26] + '.tif')\n",
    "\n",
    "driver = gdal.GetDriverByName('GTiff')\n",
    "outRaster = driver.Create(output, raster.RasterXSize, raster.RasterYSize, raster_array.shape[2], gdal.GDT_Int16)\n",
    "outRaster.SetGeoTransform((geotransform[0], geotransform[1], 0, geotransform[3], 0, geotransform[5]))\n",
    "outRaster.SetProjection(raster.GetProjection())\n",
    "for i in range(raster_array.shape[2]):\n",
    "    outband = outRaster.GetRasterBand(i + 1)\n",
    "    outband.WriteArray(raster_array[:, :, i])\n",
    "outRaster.FlushCache()  # write to disk\n",
    "outRaster = None\n",
    "# outRasterSRS = osr.SpatialReference()\n",
    "# outRasterSRS.ImportFromWkt(raster.GetProjectionRef())\n",
    "# outRaster.SetProjection(outRasterSRS.ExportToWkt())"
   ]
  },
  {
   "cell_type": "code",
   "execution_count": 9,
   "id": "45109e3b-8549-4f4f-8ed2-23624b73fa93",
   "metadata": {},
   "outputs": [
    {
     "data": {
      "text/plain": [
       "1"
      ]
     },
     "execution_count": 9,
     "metadata": {},
     "output_type": "execute_result"
    }
   ],
   "source": [
    "shp_path = '../../Sac_Yolo_Solano_Extent.shp'\n",
    "output_clip = os.path.join('../data/Data', file[:-26] + '_clip.tif')\n",
    "os.system('gdalwarp -cutline ' + shp_path + ' ' + output + ' ' + output_clip)\n",
    "\n",
    "label_raster = '../data/GroundTruth/CDL_2021_06.tif'\n",
    "label_raster_clip = label_raster[:-4] + '_clip.tif'\n",
    "os.system('gdalwarp -cutline ' + shp_path + ' -crop_to_cutline -dstalpha ' + label_raster + ' ' + label_raster_clip)"
   ]
  },
  {
   "cell_type": "code",
   "execution_count": null,
   "id": "b171df36-7d15-4960-9ad5-037151de2cd0",
   "metadata": {},
   "outputs": [],
   "source": [
    "gdalwarp -cutline INPUT.shp -crop_to_cutline -dstalpha INPUT.tif OUTPUT.tif"
   ]
  },
  {
   "cell_type": "code",
   "execution_count": null,
   "id": "545faf30-745f-4e93-b24b-08f5d5f88832",
   "metadata": {},
   "outputs": [],
   "source": [
    "os.system('gdalwarp -overwrite -t_srs \"' + epsg_code + '\" -tr 30 30 -r near -te ' + boundStr + ' \"' + current_file_remote + '\" \"' + export_file_remote + '\"')"
   ]
  },
  {
   "cell_type": "code",
   "execution_count": null,
   "id": "ff3dd455-77a2-41a4-929f-6e055a90aa54",
   "metadata": {},
   "outputs": [],
   "source": []
  }
 ],
 "metadata": {
  "kernelspec": {
   "display_name": "Python 3 (ipykernel)",
   "language": "python",
   "name": "python3"
  },
  "language_info": {
   "codemirror_mode": {
    "name": "ipython",
    "version": 3
   },
   "file_extension": ".py",
   "mimetype": "text/x-python",
   "name": "python",
   "nbconvert_exporter": "python",
   "pygments_lexer": "ipython3",
   "version": "3.9.12"
  }
 },
 "nbformat": 4,
 "nbformat_minor": 5
}
